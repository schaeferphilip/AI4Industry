{
 "cells": [
  {
   "cell_type": "code",
   "execution_count": 1,
   "id": "629e05c6-23dc-442d-a306-ffe6a2b71b93",
   "metadata": {},
   "outputs": [
    {
     "name": "stderr",
     "output_type": "stream",
     "text": [
      "2023-01-19 10:51:17.220403: I tensorflow/core/platform/cpu_feature_guard.cc:193] This TensorFlow binary is optimized with oneAPI Deep Neural Network Library (oneDNN) to use the following CPU instructions in performance-critical operations:  AVX2 FMA\n",
      "To enable them in other operations, rebuild TensorFlow with the appropriate compiler flags.\n"
     ]
    }
   ],
   "source": [
    "## ---{ BIBLIOTHEQUES }--- ##\n",
    "#%pip install tensorflow\n",
    "#%pip install scipy\n",
    "\n",
    "import time #Chronomètre\n",
    "import os, sys, shutil #Fonctions systèmes (Windows/Linux/Mac)\n",
    "import random #Fonction aléatoire\n",
    "import matplotlib.pyplot as plt  #Affichage human-friendly\n",
    "#import mysql.connector #Gestion d'une base de données MySQL\n",
    "import traceback #Rendre les exceptions plus human-readable\n",
    "import pandas as pd #Sauvegarde .csv (~excel)\n",
    "import numpy as np #Manipulation de matrices\n",
    "from datetime import datetime #Obtention de l'heure \n",
    "\n",
    "## ---{ BIBLIOTHEQUE DE DEEP LEARNING }--- ##\n",
    "\n",
    "# Front end = KERAS (~fonctions manipulables par l'être humain)\n",
    "# Back end = TENSORFLOW (~calcul mathématique caché)\n",
    "from tensorflow.keras.models import Model\n",
    "from tensorflow.keras.layers import Dense, GlobalAveragePooling2D\n",
    "from tensorflow.keras.optimizers import SGD\n",
    "from tensorflow.keras.applications import MobileNet\n",
    "from tensorflow.keras.applications.mobilenet import preprocess_input\n",
    "from tensorflow.keras.preprocessing.image import ImageDataGenerator\n",
    "from tensorflow.keras.callbacks import ModelCheckpoint\n",
    "from tensorflow.keras.preprocessing.image import load_img, img_to_array"
   ]
  },
  {
   "cell_type": "code",
   "execution_count": 2,
   "id": "7dbae09d",
   "metadata": {},
   "outputs": [],
   "source": [
    "## ---{ VARIABLES GLOBALES }--- ##\n",
    "\n",
    "# { --->\n",
    "classes = ['0_AUTRES','1_EUDEMIS']\n",
    "libelle = \"Test_5_epochs_5_limite_SDA\"\n",
    "# <--- }"
   ]
  },
  {
   "cell_type": "code",
   "execution_count": 3,
   "id": "982e0731",
   "metadata": {},
   "outputs": [],
   "source": [
    "## ---{ VARIABLES GLOBALES }--- ##\n",
    "\n",
    "nb_classes  = len(classes)\n",
    "id=libelle\n",
    "ROOT_FOLDER=r\"/Users/schaeferphilip/Documents/Bihar/AI4industry\" #Répertoire de travail de l'utilisateur\n",
    "FOLDER_IN  = \"/Users/schaeferphilip/Documents/Bihar/AI4industry/VIGNETTES\" #Stockage d'origine des vignettes utilisés\n",
    "FOLDER_OUT = ROOT_FOLDER+\"/FOLDER_OUT\" #Stockage temporaire des vignettes utilisés\n",
    "FOLDER_SAVE = ROOT_FOLDER+\"/\"+libelle #Stockage des fichiers générés par l'entraînement\n",
    "VIGNETTES_LABELS=r\"/Users/schaeferphilip/Documents/Bihar/AI4industry/VIGNETTES_LABELS.csv\"\n",
    "\n",
    "if os.path.exists(FOLDER_SAVE) == False:\n",
    "    os.makedirs(FOLDER_SAVE)\n",
    "FOLDER_SAVE_VP = FOLDER_SAVE+\"/VP\"+libelle #Stockage des VP\n",
    "FOLDER_SAVE_FP = FOLDER_SAVE+\"/FP\"+libelle #Stockage des FP\n",
    "\n",
    "for classe_i in classes:\n",
    "    if os.path.exists(FOLDER_SAVE_VP+\"/\"+classe_i) == True:\n",
    "        os.rmdir(FOLDER_SAVE_VP+\"/\"+classe_i)\n",
    "    if os.path.exists(FOLDER_SAVE_FP+\"/\"+classe_i) == True:\n",
    "        os.rmdir(FOLDER_SAVE_FP+\"/\"+classe_i)\n",
    "    os.makedirs(FOLDER_SAVE_VP+\"/\"+classe_i)\n",
    "    os.makedirs(FOLDER_SAVE_FP+\"/\"+classe_i)"
   ]
  },
  {
   "cell_type": "code",
   "execution_count": 4,
   "id": "9f87a0e9",
   "metadata": {},
   "outputs": [],
   "source": [
    "## ---{ VARIABLES GLOBALES }--- ##\n",
    "# Modification possible : définition des paramètres généraux de l'entraînement\n",
    "\n",
    "# { --->\n",
    "nb_epochs   = 5 #Nombre d'epochs = la durée et la complexité de l'entraînement (dépend des effectifs de chaque classe)\n",
    "ratio       = 0.3 #Part d'images gardés en validation : la séparation se fait aléatoirement\n",
    "FLAG_DA     = 0 #Flag d'activation de la data-augmentation 'sur le vif' (les vignettes sont randomisées avant chaque epoch)\n",
    "# <--- }\n",
    "\n",
    "coef        = 0 #Coefficient multiplicateur de la data-augmentation 'en dur' (plus utilisé mais toujours possible)\n",
    "iterations  = 1 #Nombre de répétitions de l'entrainement (2-3 conseillées pour confirmer la tendance) #Inutile ds jupyter-notebook\n",
    "#Méthode de limitation des vignettes utilisées pour l'entrainement. Tout le reste ira en validation.\n",
    "effectifs_entrainement = [0 for i in range(nb_classes)] # 0 = pas de limitation\n",
    "effectifs_entrainement = [0,400] # Limitation des effectifs de chaque classe"
   ]
  },
  {
   "cell_type": "code",
   "execution_count": 5,
   "id": "de0ff52d",
   "metadata": {},
   "outputs": [
    {
     "data": {
      "text/plain": [
       "<function TextIOWrapper.close()>"
      ]
     },
     "execution_count": 5,
     "metadata": {},
     "output_type": "execute_result"
    }
   ],
   "source": [
    "## ---{ VARIABLES GLOBALES }--- ##\n",
    "# NE PAS TOUCHER !\n",
    "\n",
    "if coef == 1:\n",
    "    coef == 0\n",
    "    \n",
    "#Fichiers.txt pour récupérer rapidement les résultats et les erreurs\n",
    "file_1 = open(FOLDER_SAVE+\"/Suivi_\"+id+\".txt\", 'w+')\n",
    "file_1.write(\"%s : %s (%s)\\nratio = %s, coef = %s, FLAG_DA = %s, iterations = %s, nb_epochs = %s\\n\" % (id, classes, nb_classes, ratio, coef, FLAG_DA, iterations, nb_epochs))\n",
    "file_1.close\n",
    "file_2 = open(FOLDER_SAVE+\"/Erreurs_\"+id+\".txt\",'w+')\n",
    "file_2.write(\"nom_fichier_vignette,classe_predite,valeur_classe_predite,classe_reel,valeur_classe_reel\\n\")\n",
    "file_2.close"
   ]
  },
  {
   "cell_type": "code",
   "execution_count": 6,
   "id": "42f68020",
   "metadata": {},
   "outputs": [],
   "source": [
    "## ---{ VARIABLES GLOBALES }--- ##\n",
    "# Modification possible mais paramètres déjà optimaux : data-augmentation\n",
    "\n",
    "# { --->\n",
    "rotation_range     = 90 #Amplitude rotation\n",
    "width_shift_range  = 0.1 #Amplitude translation\n",
    "height_shift_range = 0.1 #Amplitude translation\n",
    "shear_range        = 10 #Amplitude déformation\n",
    "horizontal_flip    = True #Miroir\n",
    "vertical_flip      = True #Miroir\n",
    "# <--- }"
   ]
  },
  {
   "cell_type": "code",
   "execution_count": 7,
   "id": "42be392b",
   "metadata": {},
   "outputs": [
    {
     "name": "stdout",
     "output_type": "stream",
     "text": [
      "[['202_d-2021-07-02_tr_n-000_h-231513;2381;2498;561;593;V0.png', ['5', '7'], ['d4be4d17d9c8eba8beeee7069528b278', '2662', '117.003', '31.6561', '3.69605', '0.0618967', '0.718712', '280.995', '9.47348', '0.423663', '7.78451', '86.5999', '67.8035', '134.387', '533.198', '480.783', '25', '167', '71.6389', '448.503\\n']], ['202_d-2021-07-25_tr_n-000_h-230502;2102;2134;1133;1209;V0.png', ['5', '7'], ['6f1177a62250e24e2dea37e0acfd9815', '1119.5', '78.9443', '19.26', '4.09887', '0.0571785', '0.736287', '188.752', '5.93105', '0.394866', '29.791', '114.972', '95.4521', '122.896', '579.361', '343.26', '60', '164', '98.9542', '383.036\\n']]]\n",
      "[['07__sVT_869170031917314_Pictures_207_2021-05-10_23_207_d-2021-05-10_trCP_n-000_h-230341;1398;1456;730;767;V0.png', ['26'], ['d50b808c883b940fd207e5ef06d24a45', '1294.5', '63.5814', '29.1447', '2.18158', '0.101928', '0.698575', '165.095', '7.84092', '0.596818', '65.833', '127.722', '114.641', '24.8527', '303.901', '205.835', '87', '162', '116.292', '208.976\\n']], ['07__sVT_869170031917314_Pictures_207_2021-05-10_23_207_d-2021-05-10_trCP_n-000_h-230341;76;138;454;481;V0.png', ['26'], ['cb876acf5ac203e88299fc59abed3819', '966.5', '63.2562', '20.6774', '3.05919', '0.0768858', '0.738928', '154.953', '6.23736', '0.505836', '29.8085', '108.852', '105.721', '410.872', '975.753', '868.1', '32', '167', '98.7186', '867.844\\n']]]\n"
     ]
    }
   ],
   "source": [
    "### Obtention tableau nom_fichier_vignette ###\n",
    "\n",
    "#Création du dictionnaire de vignettes\n",
    "dictionnaire = [[] for i in range(nb_classes)]\n",
    "\n",
    "with open(VIGNETTES_LABELS) as f:\n",
    "    next(f)\n",
    "    for line in f:\n",
    "        data=line.split(',')\n",
    "        labels=data[0].split(';')\n",
    "        if labels.count('26')!=0: #Cas EUDEMIS\n",
    "            dictionnaire[1].append([data[1],labels,data[2:]])\n",
    "        else: #Cas AUTRES\n",
    "            dictionnaire[0].append([data[1],labels,data[2:]])\n",
    "\n",
    "print(dictionnaire[0][0:2])\n",
    "print(dictionnaire[1][0:2])"
   ]
  },
  {
   "cell_type": "code",
   "execution_count": 8,
   "id": "23349da5",
   "metadata": {},
   "outputs": [
    {
     "name": "stdout",
     "output_type": "stream",
     "text": [
      "--> Séparation train/test\n",
      "Done\n"
     ]
    }
   ],
   "source": [
    "### Récupération des vignettes : séparation train/test ###\n",
    "print(\"--> Séparation train/test\")\n",
    "\n",
    "buffer_train = [[x for x in dictionnaire[j]] for j in range(nb_classes)]\n",
    "\n",
    "#Suppression dossier de destination si pré-existant\n",
    "if os.path.exists(FOLDER_OUT) == True:\n",
    "    shutil.rmtree(FOLDER_OUT, ignore_errors = True)\n",
    "\n",
    "for i in range(nb_classes):        \n",
    "    #Création dossier train\n",
    "    save_path_train = FOLDER_OUT+\"/train/\"+classes[i]\n",
    "    if os.path.exists(save_path_train) == False:\n",
    "        os.makedirs(save_path_train)    \n",
    "    #Création dossier test\n",
    "    save_path_test = FOLDER_OUT+\"/test/\"+classes[i]\n",
    "    if os.path.exists(save_path_test) == False:\n",
    "        os.makedirs(save_path_test)    \n",
    "\n",
    "    buffer_test = []\n",
    "    if effectifs_entrainement[i] == 0:\n",
    "        #Sélection aléatoire des images test selon le ratio\n",
    "        for j in range(round(ratio*len(buffer_train[i]))):\n",
    "            a = random.choice(range(len(buffer_train[i])))\n",
    "            buffer_test.append(buffer_train[i][a])\n",
    "            buffer_train[i].remove(buffer_train[i][a])\n",
    "    else:\n",
    "        #Sélection aléatoire d'un nombre donné de vignettes\n",
    "        while len(buffer_train[i])>effectifs_entrainement[i]:\n",
    "            #a = random.choice(range(len(buffer_train[i])))\n",
    "            for x in range(len(buffer_train[i])-effectifs_entrainement[i]):\n",
    "                buffer_test.append(buffer_train[i][0])\n",
    "                buffer_train[i].remove(buffer_train[i][0])\n",
    "\n",
    "    #Les images sont alors copiées\n",
    "    for j in range(len(buffer_test)):\n",
    "        shutil.copyfile(FOLDER_IN+\"/\"+buffer_test[j][0], save_path_test+\"/\"+buffer_test[j][0])\n",
    "    for j in range(len(buffer_train[i])):\n",
    "        shutil.copyfile(FOLDER_IN+\"/\"+buffer_train[i][j][0], save_path_train+\"/\"+buffer_train[i][j][0])\n",
    "print(\"Done\")"
   ]
  },
  {
   "cell_type": "code",
   "execution_count": 9,
   "id": "3580314c",
   "metadata": {},
   "outputs": [
    {
     "name": "stdout",
     "output_type": "stream",
     "text": [
      "Done\n"
     ]
    }
   ],
   "source": [
    "### Data-augmentation 'en dur' avant entraînement ###\n",
    "\n",
    "if coef > 1:\n",
    "    print(\"--> Data-augmentation 'en dur'\")\n",
    "\n",
    "    #Définition des transformations aléatoires appliquées à la vignette\n",
    "    datagen = ImageDataGenerator(\n",
    "        rotation_range=rotation_range,\n",
    "        width_shift_range=width_shift_range,\n",
    "        height_shift_range=height_shift_range,\n",
    "        shear_range=shear_range,\n",
    "        horizontal_flip=horizontal_flip,\n",
    "        vertical_flip=vertical_flip)\n",
    "\n",
    "    for i in range(nb_classes):\n",
    "        #Récupération du chemin des vignettes\n",
    "        save_path_train = FOLDER_OUT+\"\\\\train\\\\\"+classes[i]\n",
    "        vignettes = os.listdir(save_path_train)\n",
    "        vignettes = [save_path_train+\"\\\\\"+vignettes[i] for i in range(len(vignettes))]\n",
    "\n",
    "        for j in range(len(vignettes)):\n",
    "            x = plt.imread(vignettes[j])\n",
    "            x = x.reshape((1,)+x.shape)\n",
    "            k = 1\n",
    "            #Création de vignettes\n",
    "            for batch in datagen.flow(x, batch_size=1, save_prefix=str(j), save_to_dir=save_path_train):\n",
    "                k+=1\n",
    "                if k==coef:\n",
    "                    break\n",
    "print(\"Done\")"
   ]
  },
  {
   "cell_type": "code",
   "execution_count": 10,
   "id": "2b931d50",
   "metadata": {
    "scrolled": true
   },
   "outputs": [
    {
     "name": "stdout",
     "output_type": "stream",
     "text": [
      "--> Entraînement MobileNet : 2 classes ['0_AUTRES', '1_EUDEMIS']\n"
     ]
    },
    {
     "name": "stderr",
     "output_type": "stream",
     "text": [
      "2023-01-19 10:51:32.045882: I tensorflow/core/platform/cpu_feature_guard.cc:193] This TensorFlow binary is optimized with oneAPI Deep Neural Network Library (oneDNN) to use the following CPU instructions in performance-critical operations:  AVX2 FMA\n",
      "To enable them in other operations, rebuild TensorFlow with the appropriate compiler flags.\n"
     ]
    },
    {
     "name": "stdout",
     "output_type": "stream",
     "text": [
      "Found 4294 images belonging to 2 classes.\n",
      "Found 2182 images belonging to 2 classes.\n"
     ]
    },
    {
     "data": {
      "image/png": "[encoded data removed]",
      "text/plain": [
       "<Figure size 640x480 with 1 Axes>"
      ]
     },
     "metadata": {},
     "output_type": "display_data"
    },
    {
     "data": {
      "image/png": "[encoded data removed]",
      "text/plain": [
       "<Figure size 640x480 with 1 Axes>"
      ]
     },
     "metadata": {},
     "output_type": "display_data"
    }
   ],
   "source": [
    "### ENTRAINEMENT ### \n",
    "print(\"--> Entraînement MobileNet : %s classes %s\" % (nb_classes, classes))\n",
    "# time_beginning=time.time()\n",
    "\n",
    "#Définition du modèle\n",
    "model     = MobileNet(weights='imagenet', include_top=False, input_shape=(128,128,3)) #Modification possible pour test (mais il faut fixer MobileNetV1 car c'est celui qu'on utilisera ds le dispo) : MobileNetV2(), MobileNetV3Small(), MobileNetV3Large()\n",
    "x         = model.output\n",
    "x         = GlobalAveragePooling2D()(x) #Modification possible : GlobalMaxPooling2D()\n",
    "x         = Dense(1024,activation='relu')(x) #Modification possible : ajout de couches Dense(), modification de la fonction d'activation\n",
    "sortie    = Dense(nb_classes, activation='softmax')(x)\n",
    "mobilenet = Model(inputs=model.input, outputs=sortie)\n",
    "del model, x, sortie\n",
    "\n",
    "#Pré-processing des vignettes = data-augmentation 'sur le vif' avant chaque epoch\n",
    "test_datagen = ImageDataGenerator(preprocessing_function=preprocess_input)\n",
    "if FLAG_DA == 0:\n",
    "    train_datagen = ImageDataGenerator(preprocessing_function=preprocess_input)\n",
    "else:\n",
    "    train_datagen = ImageDataGenerator(\n",
    "        preprocessing_function=preprocess_input,\n",
    "        rotation_range=rotation_range,\n",
    "        width_shift_range=width_shift_range,\n",
    "        height_shift_range=height_shift_range,\n",
    "        shear_range=shear_range,\n",
    "        horizontal_flip=horizontal_flip,\n",
    "        vertical_flip=vertical_flip)\n",
    "\n",
    "#Création des batchs d'entraînement et de validation\n",
    "train_generator = train_datagen.flow_from_directory(FOLDER_OUT+\"/train\", color_mode='rgb', batch_size=32, target_size=(128,128), class_mode='categorical', shuffle=True)\n",
    "test_generator  = test_datagen.flow_from_directory(FOLDER_OUT+\"/test\", color_mode='rgb', batch_size=32, target_size=(128,128), class_mode='categorical', shuffle=False)\n",
    "\n",
    "#Compilation du modèle\n",
    "mobilenet.compile(loss='categorical_crossentropy',optimizer=SGD(learning_rate=1e-4, momentum=0.9),metrics=['accuracy'])  #Modification possible : Adagrad(), SGD(lr=1e-3)\n",
    "\n",
    "#Création de points de sauvegarde\n",
    "now             = datetime.now()\n",
    "time            = now.strftime(\"%Y-%m-%d_%H%M%S\")\n",
    "best_loss       = \"best_loss_\"+str(id)+\"(\"+time+\").h5\"\n",
    "best_accuracy   = \"best_accuracy_\"+str(id)+\"(\"+time+\").h5\"\n",
    "checkpoint_loss = ModelCheckpoint(FOLDER_SAVE+\"/\"+best_loss, monitor='val_loss', save_best_only=True, save_weights_only=True, mode='min')#, save_freq='epoch')\n",
    "checkpoint_acc  = ModelCheckpoint(FOLDER_SAVE+\"/\"+best_accuracy, monitor='val_accuracy', save_best_only=True, save_weights_only=True, mode='max')#, save_freq='epoch')\n",
    "\n",
    "#Entraînement du modèle\n",
    "step_size_train=train_generator.n//train_generator.batch_size\n",
    "step_size_test =test_generator.n//test_generator.batch_size\n",
    "history = mobilenet.fit(\n",
    "    x=train_generator,\n",
    "    steps_per_epoch=step_size_train,\n",
    "    validation_data=test_generator,\n",
    "    validation_steps=step_size_test,\n",
    "    epochs=nb_epochs,\n",
    "    verbose=0,\n",
    "    callbacks=[checkpoint_acc, checkpoint_loss])\n",
    "\n",
    "### AFFICHAGE ###\n",
    "#summarize history for accuracy\n",
    "plt.plot(history.history['accuracy'])\n",
    "plt.plot(history.history['val_accuracy'])\n",
    "plt.title('model accuracy')\n",
    "plt.ylabel('accuracy')\n",
    "plt.xlabel('epoch')\n",
    "plt.legend(['train', 'test'], loc='upper left')\n",
    "plt.show()\n",
    "#summarize history for loss\n",
    "plt.plot(history.history['loss'])\n",
    "plt.plot(history.history['val_loss'])\n",
    "plt.title('model loss')\n",
    "plt.ylabel('loss')\n",
    "plt.xlabel('epoch')\n",
    "plt.legend(['train', 'test'], loc='upper left')\n",
    "plt.show()\n",
    "\n",
    "#Sauvegarde de l'historique de l'entraînement\n",
    "hist_df   = pd.DataFrame(history.history)\n",
    "history = \"history_\"+str(id)+\"(\"+time+\").csv\"\n",
    "with open(FOLDER_SAVE+\"/\"+history, mode='w') as f:\n",
    "    hist_df.to_csv(f)\n",
    "\n",
    "# print(\"Temps total entraînement : %fs\" % (time.time()-time_beginning))"
   ]
  },
  {
   "cell_type": "code",
   "execution_count": 11,
   "id": "7977a5cd",
   "metadata": {},
   "outputs": [
    {
     "name": "stdout",
     "output_type": "stream",
     "text": [
      "--> Inférence\n",
      "Précision de la classe 0 : 87.9%\n",
      "Rappel de la classe 0 : 99.0%\n",
      "Moyenne harmonique de la classe 0 : 93.2%\n",
      "Précision de la classe 1 : 94.7%\n",
      "Rappel de la classe 1 : 55.8%\n",
      "Moyenne harmonique de la classe 1 : 70.2%\n"
     ]
    }
   ],
   "source": [
    "### INFERENCE ### Analyse des classifications du jeu de validation avec les meilleurs poids\n",
    "print(\"--> Inférence\")\n",
    "# time_beginning=time.time()\n",
    "\n",
    "#Définition du modèle\n",
    "model     = MobileNet(weights=None, include_top=False, input_shape=(128,128,3))\n",
    "x         = model.output\n",
    "x         = GlobalAveragePooling2D()(x)\n",
    "x         = Dense(1024,activation='relu')(x)\n",
    "sortie    = Dense(nb_classes, activation='softmax')(x)\n",
    "mobilenet = Model(inputs=model.input, outputs=sortie)\n",
    "del model, x, sortie\n",
    "mobilenet.load_weights(FOLDER_SAVE+\"/\"+best_accuracy)\n",
    "\n",
    "#Calcul de toutes les prédictions\n",
    "nb_vignettes        = []\n",
    "result_mobilenet    = []\n",
    "for i in range(nb_classes):\n",
    "    result_classe   = []\n",
    "    vignettes       = os.listdir(FOLDER_OUT+'/test/'+classes[i])\n",
    "    nb_vignettes.append(len(vignettes))\n",
    "    for j in range(nb_vignettes[i]):\n",
    "        img_pil     = load_img(FOLDER_OUT+'/test/'+classes[i]+'/'+vignettes[j], target_size=(128, 128))\n",
    "        img_array   = img_to_array(img_pil)\n",
    "        img_batch   = np.expand_dims(img_array, axis=0)\n",
    "        img_preprocessed = preprocess_input(img_batch)\n",
    "        prediction  = mobilenet.predict(img_preprocessed,verbose='0')\n",
    "        result_classe.append(prediction[0])\n",
    "    result_mobilenet.append(result_classe)\n",
    "\n",
    "file_2 = open(FOLDER_SAVE+\"/\"+\"Erreurs_\"+id+\".txt\", 'a+')\n",
    "file_2.write(\"                                                                                                                                                                                                    \\n\")\n",
    "file_2.close\n",
    "\n",
    "#Création de la matrice de confusion\n",
    "confusion = np.zeros((nb_classes, nb_classes), dtype=int)\n",
    "for i in range(nb_classes):\n",
    "    vignettes  = os.listdir(FOLDER_OUT+'/test/'+classes[i])\n",
    "    for j in range(nb_vignettes[i]):\n",
    "        index_max_value = np.argmax(result_mobilenet[i][j])\n",
    "        if index_max_value == i:\n",
    "            confusion[i][i]+=1 #Vrai positif\n",
    "            #shutil.copyfile(FOLDER_OUT+'\\\\test\\\\'+classes[i]+'\\\\'+vignettes[j],FOLDER_SAVE_VP+\"\\\\\"+classes[i]+\"\\\\\"+vignettes[j])\n",
    "        else:\n",
    "            confusion[i][index_max_value]+=1\n",
    "            #shutil.copyfile(FOLDER_OUT+'\\\\test\\\\'+classes[i]+'\\\\'+vignettes[j],FOLDER_SAVE+\"\\\\\"+classes[index_max_value]+\"\\\\\"+vignettes[j])\n",
    "\n",
    "            file_2 = open(FOLDER_SAVE+\"/\"+\"Erreurs_\"+id+\".txt\", 'a+')\n",
    "            file_2.write(\"%s,%s,%s,%s,%s\\n\" % (vignettes[j], classes[index_max_value], result_mobilenet[i][j][index_max_value], classes[i], result_mobilenet[i][j][i]))\n",
    "            file_2.close\n",
    "\n",
    "#Calcul de la précision, du rappel et de la F-mesure\n",
    "result_classe = np.zeros((nb_classes, 3), dtype=float)\n",
    "for j in range(nb_classes):\n",
    "    #Précision/accuracy\n",
    "    s = 0\n",
    "    for i in range(nb_classes):\n",
    "        s+=confusion[i][j]\n",
    "    acc = confusion[j][j]/s\n",
    "    result_classe[j][0] = round(acc*100,1)\n",
    "    print(\"Précision de la classe %s : %s%%\" % (j, round(acc*100,1)))\n",
    "    #Recall/rappel\n",
    "    rec = confusion[j][j]/sum(confusion[j])\n",
    "    result_classe[j][1] = round(rec*100,1)\n",
    "    print(\"Rappel de la classe %s : %s%%\" % (j, round(rec*100,1)))\n",
    "    #F-mesure\n",
    "    fm = 2*acc*rec/(acc+rec)\n",
    "    result_classe[j][2] = round(fm*100,1)\n",
    "    print(\"Moyenne harmonique de la classe %s : %s%%\" % (j, round(fm*100,1)))\n",
    "\n",
    "#Moyenne de la précision, du rappel et de la F-mesure\n",
    "s0, s1, s2 = 0, 0, 0\n",
    "for i in range(nb_classes):\n",
    "    s0+=result_classe[i][0]\n",
    "    s1+=result_classe[i][1]\n",
    "    s2+=result_classe[i][2]\n",
    "result_moyenne = np.array([round(s0/nb_classes,1), round(s1/nb_classes,1), round(s2/nb_classes,1)])\n",
    "\n",
    "#Enfin, on récupère val_accuracy et val_loss dans history.csv. NB : méthode sous-optimal car ce serait mieux lors de l'entraînement, mais qui fonctionne bien.\n",
    "\n",
    "\n",
    "with open(FOLDER_SAVE+\"/\"+history) as file_name:\n",
    "    array_history = np.loadtxt(file_name, delimiter=\",\", skiprows=1)\n",
    "val_accuracy, val_loss = np.amax(array_history, axis=0)[4], np.amin(array_history, axis=0)[3]\n",
    "\n",
    "val_acc, val_loss=round(val_accuracy,3), round(val_loss,3)\n",
    "\n",
    "# print(\"Temps total inférence : %fs\" % (time.time()-time_beginning))"
   ]
  },
  {
   "cell_type": "code",
   "execution_count": 12,
   "id": "1361bbb2",
   "metadata": {},
   "outputs": [],
   "source": [
    "# Log.txt\n",
    "file_1 = open(FOLDER_SAVE+\"/\"+\"Suivi_\"+id+\".txt\", 'a+')\n",
    "file_1.write(\"\\nIteration #%s\\nmax_val_accuracy = %s\\nmin_val_loss = %s\\nCONFUSION\\n%s\\nPrécision/Rappel/F-mesure par classe\\n%s\\nPrécision/Rappel/F-mesure moyenne\\n%s\\n[%s / %s / %s]\\n\" % (i, val_accuracy, val_loss, confusion, result_classe, result_moyenne, best_accuracy, best_loss, history))\n",
    "file_1.close\n",
    "file_1 = open(FOLDER_SAVE+\"/\"+\"Suivi_\"+id+\".txt\", 'a+')\n",
    "file_1.write(\"\\n\\n\")\n",
    "file_1.close\n",
    "file_2 = open(FOLDER_SAVE+\"/\"+\"Erreurs_\"+id+\".txt\", 'a+')\n",
    "file_2.write(\"\\n\\n\")\n",
    "file_2.close\n",
    "\n",
    "# Log BDD\n",
    "max_val_accuracy        = str(val_accuracy)\n",
    "min_val_loss            = str(val_loss)\n",
    "matrice_confusion       = str(confusion)\n",
    "performances_par_classe = str(result_classe)\n",
    "performances_moyenne    = str(result_moyenne)\n",
    "noms_poids              = \"[\"+str(best_accuracy)+\" \"+str(best_loss)+\"]\""
   ]
  }
 ],
 "metadata": {
  "kernelspec": {
   "display_name": "Anaconda3912",
   "language": "python",
   "name": "python3"
  },
  "language_info": {
   "codemirror_mode": {
    "name": "ipython",
    "version": 3
   },
   "file_extension": ".py",
   "mimetype": "text/x-python",
   "name": "python",
   "nbconvert_exporter": "python",
   "pygments_lexer": "ipython3",
   "version": "3.9.13"
  },
  "vscode": {
   "interpreter": {
    "hash": "13e63388aeb26d375adc62e98cf0ca00af36ba53d6165e1c00632577965d211e"
   }
  }
 },
 "nbformat": 4,
 "nbformat_minor": 5
}
